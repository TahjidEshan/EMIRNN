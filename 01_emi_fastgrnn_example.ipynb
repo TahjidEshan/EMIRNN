{
 "cells": [
  {
   "cell_type": "markdown",
   "metadata": {},
   "source": [
    "# Using EMI-FastGRNN on the HAR Dataset\n",
    "\n",
    "This is a very simple example of how the existing EMI-FastGRNN implementation can be used on the HAR dataset. We illustrate how to train a model that predicts on 48 step sequence in place of the 128 length baselines while attempting to predict early. For more advanced use cases which involves more sophisticated computation graphs or loss functions, please refer to the doc strings provided with the released code.\n",
    "\n",
    "In the preprint of our work, we use the terms *bag* and *instance* to refer to the RNN input sequence of original length and the shorter ones we want to learn to predict on, respectively. In the code though, *bag* is replaced with *instance* and *instance* is replaced with *sub-instance*. We will use the term *instance* and *sub-instance* interchangeably.\n",
    "\n",
    "The network used here is a simple RNN + Linear classifier network. \n",
    "\n",
    "The UCI [Human Activity Recognition](https://archive.ics.uci.edu/ml/datasets/human+activity+recognition+using+smartphones) dataset."
   ]
  },
  {
   "cell_type": "code",
   "execution_count": 9,
   "metadata": {
    "ExecuteTime": {
     "end_time": "2018-08-19T12:39:06.272261Z",
     "start_time": "2018-08-19T12:39:05.330668Z"
    }
   },
   "outputs": [],
   "source": [
    "from __future__ import print_function\n",
    "import os\n",
    "import sys\n",
    "import tensorflow as tf\n",
    "import numpy as np\n",
    "sys.path.insert(0, '../../')\n",
    "os.environ['CUDA_VISIBLE_DEVICES'] ='-1'\n",
    "\n",
    "# FastGRNN and FastRNN imports\n",
    "from edgeml.graph.rnn import EMI_DataPipeline\n",
    "from edgeml.graph.rnn import EMI_FastGRNN\n",
    "from edgeml.graph.rnn import EMI_FastRNN\n",
    "from edgeml.trainer.emirnnTrainer import EMI_Trainer, EMI_Driver\n",
    "import edgeml.utils"
   ]
  },
  {
   "cell_type": "markdown",
   "metadata": {},
   "source": [
    "Let us set up some network parameters for the computation graph."
   ]
  },
  {
   "cell_type": "code",
   "execution_count": 10,
   "metadata": {
    "ExecuteTime": {
     "end_time": "2018-08-19T12:39:06.292205Z",
     "start_time": "2018-08-19T12:39:06.274254Z"
    }
   },
   "outputs": [],
   "source": [
    "# Network parameters for our FastGRNN + FC Layer\n",
    "NUM_HIDDEN = 128\n",
    "NUM_TIMESTEPS = 48\n",
    "NUM_FEATS = 9\n",
    "FORGET_BIAS = 1.0\n",
    "NUM_OUTPUT = 3\n",
    "USE_DROPOUT = False\n",
    "KEEP_PROB = 0.9\n",
    "\n",
    "# Non-linearities can be chosen among \"tanh, sigmoid, relu, quantTanh, quantSigm\"\n",
    "UPDATE_NL = \"quantTanh\"\n",
    "GATE_NL = \"quantSigm\"\n",
    "\n",
    "# Ranks of Parameter matrices for low-rank parameterisation to compress models.\n",
    "WRANK = 5\n",
    "URANK = 6\n",
    "\n",
    "# For dataset API\n",
    "PREFETCH_NUM = 5\n",
    "BATCH_SIZE = 32\n",
    "\n",
    "# Number of epochs in *one iteration*\n",
    "NUM_EPOCHS = 50\n",
    "# Number of iterations in *one round*. After each iteration,\n",
    "# the model is dumped to disk. At the end of the current\n",
    "# round, the best model among all the dumped models in the\n",
    "# current round is picked up..\n",
    "NUM_ITER = 4\n",
    "# A round consists of multiple training iterations and a belief\n",
    "# update step using the best model from all of these iterations\n",
    "NUM_ROUNDS = 2\n",
    "\n",
    "# A staging direcory to store models\n",
    "MODEL_PREFIX = '/home/iot/Documents/EdgeML-master/tf/examples/EMI-RNN/Daphnet4816/model-fgrnn'"
   ]
  },
  {
   "cell_type": "markdown",
   "metadata": {},
   "source": [
    "# Loading Data\n",
    "\n",
    "Please make sure the data is preprocessed to a format that is compatible with EMI-RNN. `tf/examples/EMI-RNN/fetch_har.py` can be used to download and setup the HAR dataset.\n"
   ]
  },
  {
   "cell_type": "code",
   "execution_count": 11,
   "metadata": {
    "ExecuteTime": {
     "end_time": "2018-08-19T12:39:06.410372Z",
     "start_time": "2018-08-19T12:39:06.294014Z"
    }
   },
   "outputs": [
    {
     "name": "stdout",
     "output_type": "stream",
     "text": [
      "x_train shape is: (463, 6, 48, 9)\n",
      "y_train shape is: (463, 6, 3)\n",
      "x_val shape is: (52, 6, 48, 9)\n",
      "y_val shape is: (52, 6, 3)\n"
     ]
    }
   ],
   "source": [
    "# Loading the data\n",
    "direc = '/home/iot/Documents/dataset_fog_release/dataset/48_16/'\n",
    "x_train, y_train = np.load(direc+'x_train.npy'), np.load(direc + 'y_train.npy')\n",
    "x_test, y_test = np.load(direc+'x_test.npy'), np.load(direc+'y_test.npy')\n",
    "x_val, y_val = np.load(direc+'x_val.npy'), np.load(direc+'y_val.npy')\n",
    "\n",
    "# BAG_TEST, BAG_TRAIN, BAG_VAL represent bag_level labels. These are used for the label update\n",
    "# step of EMI/MI RNN\n",
    "BAG_TEST = np.argmax(y_test[:, 0, :], axis=1)\n",
    "BAG_TRAIN = np.argmax(y_train[:, 0, :], axis=1)\n",
    "BAG_VAL = np.argmax(y_val[:, 0, :], axis=1)\n",
    "NUM_SUBINSTANCE = x_train.shape[1]\n",
    "print(\"x_train shape is:\", x_train.shape)\n",
    "print(\"y_train shape is:\", y_train.shape)\n",
    "print(\"x_val shape is:\", x_val.shape)\n",
    "print(\"y_val shape is:\", y_val.shape)"
   ]
  },
  {
   "cell_type": "markdown",
   "metadata": {},
   "source": [
    "# Computation Graph\n",
    "\n",
    "![hell](img/3PartsGraph.png)\n",
    "\n",
    "The *EMI-RNN* computation graph is constructed out of the following three mutually disjoint parts ('modules'):\n",
    "\n",
    "1. `EMI_DataPipeline`: An efficient data input pipeline that using the Tensorflow Dataset API. This module ingests data compatible with EMI-RNN and provides two iterators for a batch of input data, $x$ and label $y$. \n",
    "2. `EMI_RNN`: The 'abstract' `EMI-RNN` class defines the methods and attributes required for the forward computation graph. An implementation based on FastGRNN - `EMI_FastGRNN` is used in this document, though the user is free to implement his own computation graphs compatible with `EMI-RNN`. This module expects two Dataset API iterators for $x$-batch and $y$-batch as inputs and constructs the forward computation graph based on them. Every implementation of this class defines an `output` operation - the output of the forward computation graph.\n",
    "3. `EMI_Trainer`: An instance of `EMI_Trainer` class which defines the loss functions and the training routine. This expects an `output` operator from an `EMI-RNN` implementation and attaches loss functions and training routines to it.\n",
    "\n",
    "To build the computation graph, we create an instance of all the above and then connect them together.\n",
    "\n",
    "Note that, the `EMI_FastGRNN` class is an implementation that uses an FastGRNN cell and pushes the FastGRNN output at each step to a secondary classifier for classification. This secondary classifier is not implemented as part of `EMI_FastGRNN` and is left to the user to define by overriding the `createExtendedGraph` method, and the `restoreExtendedgraph` method.\n",
    "\n",
    "For the purpose of this example, we will be using a simple linear layer as a secondary classifier."
   ]
  },
  {
   "cell_type": "code",
   "execution_count": 12,
   "metadata": {
    "ExecuteTime": {
     "end_time": "2018-08-19T12:39:06.653612Z",
     "start_time": "2018-08-19T12:39:06.412290Z"
    }
   },
   "outputs": [],
   "source": [
    "# Define the linear secondary classifier\n",
    "def createExtendedGraph(self, baseOutput, *args, **kwargs):\n",
    "    W1 = tf.Variable(np.random.normal(size=[NUM_HIDDEN, NUM_OUTPUT]).astype('float32'), name='W1')\n",
    "    B1 = tf.Variable(np.random.normal(size=[NUM_OUTPUT]).astype('float32'), name='B1')\n",
    "    y_cap = tf.add(tf.tensordot(baseOutput, W1, axes=1), B1, name='y_cap_tata')\n",
    "    self.output = y_cap\n",
    "    self.graphCreated = True\n",
    "\n",
    "def restoreExtendedGraph(self, graph, *args, **kwargs):\n",
    "    y_cap = graph.get_tensor_by_name('y_cap_tata:0')\n",
    "    self.output = y_cap\n",
    "    self.graphCreated = True\n",
    "    \n",
    "def feedDictFunc(self, keep_prob=None, inference=False, **kwargs):\n",
    "    if inference is False:\n",
    "        feedDict = {self._emiGraph.keep_prob: keep_prob}\n",
    "    else:\n",
    "        feedDict = {self._emiGraph.keep_prob: 1.0}\n",
    "    return feedDict\n",
    "\n",
    "    \n",
    "EMI_FastGRNN._createExtendedGraph = createExtendedGraph\n",
    "EMI_FastGRNN._restoreExtendedGraph = restoreExtendedGraph\n",
    "if USE_DROPOUT is True:\n",
    "    EMI_FastGRNN.feedDictFunc = feedDictFunc"
   ]
  },
  {
   "cell_type": "code",
   "execution_count": 13,
   "metadata": {
    "ExecuteTime": {
     "end_time": "2018-08-19T12:39:06.701740Z",
     "start_time": "2018-08-19T12:39:06.655328Z"
    }
   },
   "outputs": [],
   "source": [
    "inputPipeline = EMI_DataPipeline(NUM_SUBINSTANCE, NUM_TIMESTEPS, NUM_FEATS, NUM_OUTPUT)\n",
    "emiFastGRNN = EMI_FastGRNN(NUM_SUBINSTANCE, NUM_HIDDEN, NUM_TIMESTEPS, NUM_FEATS, wRank=WRANK, uRank=URANK, \n",
    "                           gate_non_linearity=GATE_NL, update_non_linearity=UPDATE_NL, useDropout=USE_DROPOUT)\n",
    "emiTrainer = EMI_Trainer(NUM_TIMESTEPS, NUM_OUTPUT, lossType='xentropy')"
   ]
  },
  {
   "cell_type": "markdown",
   "metadata": {},
   "source": [
    "inputPipeline = EMI_DataPipeline(NUM_SUBINSTANCE, NUM_TIMESTEPS, NUM_FEATS, NUM_OUTPUT)\n",
    "emiFastGRNN = EMI_FastRNN(NUM_SUBINSTANCE, NUM_HIDDEN, NUM_TIMESTEPS, NUM_FEATS, wRank=WRANK, uRank=URANK, \n",
    "                           update_non_linearity=UPDATE_NL, useDropout=USE_DROPOUT)\n",
    "emiTrainer = EMI_Trainer(NUM_TIMESTEPS, NUM_OUTPUT, lossType='xentropy')"
   ]
  },
  {
   "cell_type": "markdown",
   "metadata": {},
   "source": [
    "Now that we have all the elementary parts of the computation graph setup, we connect them together to form the forward graph."
   ]
  },
  {
   "cell_type": "code",
   "execution_count": 14,
   "metadata": {
    "ExecuteTime": {
     "end_time": "2018-08-19T12:39:14.187456Z",
     "start_time": "2018-08-19T12:39:06.703481Z"
    }
   },
   "outputs": [],
   "source": [
    "tf.reset_default_graph()\n",
    "g1 = tf.Graph()    \n",
    "with g1.as_default():\n",
    "    # Obtain the iterators to each batch of the data\n",
    "    x_batch, y_batch = inputPipeline()\n",
    "    # Create the forward computation graph based on the iterators\n",
    "    y_cap = emiFastGRNN(x_batch)\n",
    "    # Create loss graphs and training routines\n",
    "    emiTrainer(y_cap, y_batch)"
   ]
  },
  {
   "cell_type": "markdown",
   "metadata": {},
   "source": [
    "# EMI Driver\n",
    "\n",
    "The `EMI_Driver` implements the `EMI_RNN` algorithm. For more information on how the driver works, please refer to `tf/docs/EMI-RNN.md`. Note that, during the training period, the accuracy printed is instance level accuracy with the current label information as target. Bag level accuracy, with which we are actually concerned, is calculated after the training ends. "
   ]
  },
  {
   "cell_type": "code",
   "execution_count": 15,
   "metadata": {
    "ExecuteTime": {
     "end_time": "2018-08-19T12:51:45.803360Z",
     "start_time": "2018-08-19T12:39:14.189648Z"
    }
   },
   "outputs": [],
   "source": [
    "with g1.as_default():\n",
    "    emiDriver = EMI_Driver(inputPipeline, emiFastGRNN, emiTrainer)\n",
    "\n",
    "emiDriver.initializeSession(g1)"
   ]
  },
  {
   "cell_type": "code",
   "execution_count": 8,
   "metadata": {
    "ExecuteTime": {
     "end_time": "2018-08-19T12:51:45.803360Z",
     "start_time": "2018-08-19T12:39:14.189648Z"
    }
   },
   "outputs": [
    {
     "name": "stdout",
     "output_type": "stream",
     "text": [
      "Update policy: top-k\n",
      "Training with MI-RNN loss for 1 rounds\n",
      "Round: 0\n",
      "Epoch  48 Batch     0 (  720) Loss 0.00609 Acc 0.91667 | Val acc 0.81302 | Model saved to /home/iot/Documents/EdgeML-master/tf/examples/EMI-RNN/Daphnet4816/model-fgrnn, global_step 1000\n",
      "Epoch  48 Batch     0 (  720) Loss 0.00540 Acc 0.91667 | Val acc 0.81719 | Model saved to /home/iot/Documents/EdgeML-master/tf/examples/EMI-RNN/Daphnet4816/model-fgrnn, global_step 1001\n",
      "Epoch  48 Batch     0 (  720) Loss 0.00413 Acc 0.94792 | Val acc 0.82760 | Model saved to /home/iot/Documents/EdgeML-master/tf/examples/EMI-RNN/Daphnet4816/model-fgrnn, global_step 1002\n",
      "Epoch  48 Batch     0 (  720) Loss 0.00250 Acc 0.97396 | Val acc 0.84115 | Model saved to /home/iot/Documents/EdgeML-master/tf/examples/EMI-RNN/Daphnet4816/model-fgrnn, global_step 1003\n",
      "INFO:tensorflow:Restoring parameters from /home/iot/Documents/EdgeML-master/tf/examples/EMI-RNN/Daphnet4816/model-fgrnn-1003\n",
      "Round: 1\n",
      "Switching to EMI-Loss function\n",
      "Epoch  48 Batch     0 (  720) Loss 0.26759 Acc 0.97396 | Val acc 0.80781 | Model saved to /home/iot/Documents/EdgeML-master/tf/examples/EMI-RNN/Daphnet4816/model-fgrnn, global_step 1004\n",
      "Epoch  48 Batch     0 (  720) Loss 0.23802 Acc 0.96875 | Val acc 0.83958 | Model saved to /home/iot/Documents/EdgeML-master/tf/examples/EMI-RNN/Daphnet4816/model-fgrnn, global_step 1005\n",
      "Epoch  48 Batch     0 (  720) Loss 0.21074 Acc 0.97396 | Val acc 0.83021 | Model saved to /home/iot/Documents/EdgeML-master/tf/examples/EMI-RNN/Daphnet4816/model-fgrnn, global_step 1006\n",
      "Epoch  48 Batch     0 (  720) Loss 0.17866 Acc 0.98958 | Val acc 0.79896 | Model saved to /home/iot/Documents/EdgeML-master/tf/examples/EMI-RNN/Daphnet4816/model-fgrnn, global_step 1007\n",
      "INFO:tensorflow:Restoring parameters from /home/iot/Documents/EdgeML-master/tf/examples/EMI-RNN/Daphnet4816/model-fgrnn-1005\n"
     ]
    }
   ],
   "source": [
    "y_updated, modelStats = emiDriver.run(numClasses=NUM_OUTPUT, x_train=x_train,\n",
    "                                      y_train=y_train, bag_train=BAG_TRAIN,\n",
    "                                      x_val=x_val, y_val=y_val, bag_val=BAG_VAL,\n",
    "                                      numIter=NUM_ITER, keep_prob=KEEP_PROB,\n",
    "                                      numRounds=NUM_ROUNDS, batchSize=BATCH_SIZE,\n",
    "                                      numEpochs=NUM_EPOCHS, modelPrefix=MODEL_PREFIX,\n",
    "                                      fracEMI=0.5, updatePolicy='top-k', k=2)"
   ]
  },
  {
   "cell_type": "markdown",
   "metadata": {},
   "source": [
    "# Evaluating the  trained model\n",
    "\n",
    "![MIML Formulation illustration](img/MIML_illustration.png)\n",
    "\n",
    "## Accuracy\n",
    "\n",
    "Since the trained model predicts on a smaller 48-step input while our test data has labels for 128 step inputs (i.e. bag level labels), evaluating the accuracy of the trained model is not straight forward. We perform the evaluation as follows:\n",
    "\n",
    "1. Divide the test data also into sub-instances; similar to what was done for the train data.\n",
    "2. Obtain sub-instance level predictions for each bag in the test data.\n",
    "3. Obtain bag level predictions from sub-instance level predictions. For this, we use our estimate of the length of the signature to estimate the expected number of sub-instances that would be non negative - $k$ illustrated in the figure. If a bag has $k$ consecutive sub-instances with the same label, that becomes the label of the bag. All other bags are labeled negative.\n",
    "4. Compare the predicted bag level labels with the known bag level labels in test data.\n",
    "\n",
    "## Early Savings\n",
    "\n",
    "Early prediction is accomplished by defining an early prediction policy method. This method receives the prediction at each step of the learned FastGRNN for a sub-instance as input and is expected to return a predicted class and the 0-indexed step at which it made this prediction. This is illustrated below in code. "
   ]
  },
  {
   "cell_type": "code",
   "execution_count": 8,
   "metadata": {
    "ExecuteTime": {
     "end_time": "2018-08-19T12:51:45.832728Z",
     "start_time": "2018-08-19T12:51:45.805984Z"
    }
   },
   "outputs": [],
   "source": [
    "# Early Prediction Policy: We make an early prediction based on the predicted classes\n",
    "#     probability. If the predicted class probability > minProb at some step, we make\n",
    "#     a prediction at that step.\n",
    "def earlyPolicy_minProb(instanceOut, minProb, **kwargs):\n",
    "    assert instanceOut.ndim == 2\n",
    "    classes = np.argmax(instanceOut, axis=1)\n",
    "    prob = np.max(instanceOut, axis=1)\n",
    "    index = np.where(prob >= minProb)[0]\n",
    "    if len(index) == 0:\n",
    "        assert (len(instanceOut) - 1) == (len(classes) - 1)\n",
    "        return classes[-1], len(instanceOut) - 1\n",
    "    index = index[0]\n",
    "    return classes[index], index\n",
    "\n",
    "def getEarlySaving(predictionStep, numTimeSteps, returnTotal=False):\n",
    "    predictionStep = predictionStep + 1\n",
    "    predictionStep = np.reshape(predictionStep, -1)\n",
    "    totalSteps = np.sum(predictionStep)\n",
    "    maxSteps = len(predictionStep) * numTimeSteps\n",
    "    savings = 1.0 - (totalSteps / maxSteps)\n",
    "    if returnTotal:\n",
    "        return savings, totalSteps\n",
    "    return savings"
   ]
  },
  {
   "cell_type": "code",
   "execution_count": 11,
   "metadata": {
    "ExecuteTime": {
     "end_time": "2018-08-19T12:51:46.210240Z",
     "start_time": "2018-08-19T12:51:45.834534Z"
    }
   },
   "outputs": [
    {
     "name": "stdout",
     "output_type": "stream",
     "text": [
      "CPU times: user 390 ms, sys: 125 ms, total: 515 ms\n",
      "Wall time: 96.3 ms\n"
     ]
    }
   ],
   "source": [
    "%%time\n",
    "k = 2\n",
    "predictions, predictionStep = emiDriver.getInstancePredictions(x_test, y_test, earlyPolicy_minProb, minProb=0.99)\n",
    "bagPredictions = emiDriver.getBagPredictions(predictions, minSubsequenceLen=k, numClass=NUM_OUTPUT)"
   ]
  },
  {
   "cell_type": "code",
   "execution_count": 12,
   "metadata": {
    "ExecuteTime": {
     "end_time": "2018-08-19T12:51:46.210240Z",
     "start_time": "2018-08-19T12:51:45.834534Z"
    }
   },
   "outputs": [
    {
     "name": "stdout",
     "output_type": "stream",
     "text": [
      "Accuracy at k = 2: 0.873303\n",
      "Additional savings: 0.352313\n"
     ]
    }
   ],
   "source": [
    "print('Accuracy at k = %d: %f' % (k,  np.mean((bagPredictions == BAG_TEST).astype(int))))\n",
    "print('Additional savings: %f' % getEarlySaving(predictionStep, NUM_TIMESTEPS))"
   ]
  },
  {
   "cell_type": "markdown",
   "metadata": {},
   "source": [
    "## Picking the best model\n",
    "\n",
    "The `EMI_Driver.run()` method, upon finishing, returns a list containing information about the best models after each EMI-RNN round. This can be used to identify the best model (based on validation accuracy) at the end of each round - illustrated below."
   ]
  },
  {
   "cell_type": "code",
   "execution_count": 12,
   "metadata": {
    "ExecuteTime": {
     "end_time": "2018-08-19T13:06:04.024660Z",
     "start_time": "2018-08-19T13:04:47.045787Z"
    }
   },
   "outputs": [
    {
     "name": "stdout",
     "output_type": "stream",
     "text": [
      "INFO:tensorflow:Restoring parameters from /home/iot/Documents/EdgeML-master/tf/examples/EMI-RNN/Daphnet Edge/model-fgrnn-1001\n",
      "Round:  0, Validation accuracy: 0.8788, Test Accuracy (k = 2): 0.873016, Additional savings: 0.009022\n",
      "INFO:tensorflow:Restoring parameters from /home/iot/Documents/EdgeML-master/tf/examples/EMI-RNN/Daphnet Edge/model-fgrnn-1006\n",
      "Round:  1, Validation accuracy: 0.8339, Test Accuracy (k = 2): 0.908730, Additional savings: 0.229880\n"
     ]
    }
   ],
   "source": [
    "devnull = open(os.devnull, 'r')\n",
    "for val in modelStats:\n",
    "    round_, acc, modelPrefix, globalStep = val\n",
    "    emiDriver.loadSavedGraphToNewSession(modelPrefix, globalStep, redirFile=devnull)\n",
    "    predictions, predictionStep = emiDriver.getInstancePredictions(x_test, y_test, earlyPolicy_minProb,\n",
    "                                                               minProb=0.99, keep_prob=1.0)\n",
    " \n",
    "    bagPredictions = emiDriver.getBagPredictions(predictions, minSubsequenceLen=k, numClass=NUM_OUTPUT)\n",
    "    print(\"Round: %2d, Validation accuracy: %.4f\" % (round_, acc), end='')\n",
    "    print(', Test Accuracy (k = %d): %f, ' % (k,  np.mean((bagPredictions == BAG_TEST).astype(int))), end='')\n",
    "    print('Additional savings: %f' % getEarlySaving(predictionStep, NUM_TIMESTEPS)) "
   ]
  },
  {
   "cell_type": "code",
   "execution_count": 15,
   "metadata": {},
   "outputs": [],
   "source": [
    "def plot_confusion_matrix(bag_labels, bag_predictions, class_labels):\n",
    "    \n",
    "    import matplotlib.pyplot as plt\n",
    "    import pandas as pd\n",
    "    import seaborn as sn\n",
    "    from sklearn.metrics import confusion_matrix\n",
    "    from tabulate import tabulate\n",
    "\n",
    "    cm = confusion_matrix(pd.DataFrame(bag_labels), pd.DataFrame(bag_predictions))\n",
    "    \n",
    "    cm_df = pd.DataFrame(cm,columns=class_labels, index = class_labels)\n",
    "    tick_marks = np.arange(len(class_labels))\n",
    "    \n",
    "    plt.figure(figsize = (10,6))\n",
    "    # rotation = '180' only for DSAAR.\n",
    "    plt.xticks(tick_marks, class_labels, rotation=90)\n",
    "    plt.yticks(tick_marks, class_labels, rotation=90)\n",
    "\n",
    "    plt.title(\"Confusion Matrix\")\n",
    "    plt.imshow(cm, interpolation='nearest', cmap=plt.cm.Blues)\n",
    "    \n",
    "    #sns.set(rc={'figure.figsize':(10.0,10.0)})\n",
    "    sn.heatmap(cm_df, annot=True, cmap = plt.cm.Blues, fmt = 'd')\n",
    "    \n",
    "    return "
   ]
  },
  {
   "cell_type": "code",
   "execution_count": 17,
   "metadata": {},
   "outputs": [
    {
     "data": {
      "image/png": "[encoded data removed]",
      "text/plain": [
       "<Figure size 720x432 with 2 Axes>"
      ]
     },
     "metadata": {
      "needs_background": "light"
     },
     "output_type": "display_data"
    }
   ],
   "source": [
    "plot_confusion_matrix(bag_labels=BAG_TEST,bag_predictions=bagPredictions,class_labels = {0,1,2})"
   ]
  },
  {
   "cell_type": "markdown",
   "metadata": {},
   "source": [
    "# TEST RUN"
   ]
  },
  {
   "cell_type": "code",
   "execution_count": null,
   "metadata": {
    "ExecuteTime": {
     "end_time": "2018-08-19T12:51:46.677691Z",
     "start_time": "2018-08-19T12:51:46.212285Z"
    }
   },
   "outputs": [],
   "source": [
    "tf.reset_default_graph()\n",
    "emiDriver.initializeSession(g1)\n",
    "emiDriver.loadSavedGraphToNewSession(MODEL_PREFIX, 1006)\n",
    "k = 2"
   ]
  },
  {
   "cell_type": "code",
   "execution_count": 18,
   "metadata": {
    "ExecuteTime": {
     "end_time": "2018-08-19T12:51:46.677691Z",
     "start_time": "2018-08-19T12:51:46.212285Z"
    }
   },
   "outputs": [
    {
     "name": "stdout",
     "output_type": "stream",
     "text": [
      "Accuracy at k = 2: 0.868778\n",
      "CPU times: user 354 ms, sys: 184 ms, total: 538 ms\n",
      "Wall time: 98.3 ms\n"
     ]
    }
   ],
   "source": [
    "%%time\n",
    "predictions, predictionStep = emiDriver.getInstancePredictions(x_test, y_test, earlyPolicy_minProb,\n",
    "                                                            minProb=0.99, keep_prob=1.0)\n",
    "bagPredictions = emiDriver.getBagPredictions(predictions, minSubsequenceLen=k, numClass=NUM_OUTPUT)\n",
    "print('Accuracy at k = %d: %f' % (k,  np.mean((bagPredictions == BAG_TEST).astype(int))))"
   ]
  },
  {
   "cell_type": "code",
   "execution_count": 17,
   "metadata": {
    "ExecuteTime": {
     "end_time": "2018-08-19T12:51:46.677691Z",
     "start_time": "2018-08-19T12:51:46.212285Z"
    },
    "scrolled": false
   },
   "outputs": [
    {
     "name": "stdout",
     "output_type": "stream",
     "text": [
      "   len       acc  macro-fsc  macro-pre  macro-rec  micro-fsc  micro-pre  \\\n",
      "0    1  0.823529   0.825387   0.841677   0.823591   0.823529   0.823529   \n",
      "1    2  0.868778   0.868437   0.870928   0.866974   0.868778   0.868778   \n",
      "2    3  0.837104   0.834236   0.842061   0.833776   0.837104   0.837104   \n",
      "3    4  0.751131   0.749435   0.802254   0.747079   0.751131   0.751131   \n",
      "4    5  0.687783   0.685419   0.798230   0.683153   0.687783   0.687783   \n",
      "5    6  0.610860   0.601129   0.783751   0.606995   0.610860   0.610860   \n",
      "\n",
      "   micro-rec  \n",
      "0   0.823529  \n",
      "1   0.868778  \n",
      "2   0.837104  \n",
      "3   0.751131  \n",
      "4   0.687783  \n",
      "5   0.610860  \n",
      "Max accuracy 0.868778 at subsequencelength 2\n",
      "Max micro-f 0.868778 at subsequencelength 2\n",
      "Micro-precision 0.868778 at subsequencelength 2\n",
      "Micro-recall 0.868778 at subsequencelength 2\n",
      "Max macro-f 0.868437 at subsequencelength 2\n",
      "macro-precision 0.870928 at subsequencelength 2\n",
      "macro-recall 0.866974 at subsequencelength 2\n"
     ]
    }
   ],
   "source": [
    "# A slightly more detailed analysis method is provided. \n",
    "df = emiDriver.analyseModel(predictions, BAG_TEST, NUM_SUBINSTANCE, NUM_OUTPUT)"
   ]
  },
  {
   "cell_type": "code",
   "execution_count": null,
   "metadata": {},
   "outputs": [],
   "source": []
  }
 ],
 "metadata": {
  "kernelspec": {
   "display_name": "Python 3",
   "language": "python",
   "name": "python3"
  },
  "language_info": {
   "codemirror_mode": {
    "name": "ipython",
    "version": 3
   },
   "file_extension": ".py",
   "mimetype": "text/x-python",
   "name": "python",
   "nbconvert_exporter": "python",
   "pygments_lexer": "ipython3",
   "version": "3.6.8"
  }
 },
 "nbformat": 4,
 "nbformat_minor": 2
}
